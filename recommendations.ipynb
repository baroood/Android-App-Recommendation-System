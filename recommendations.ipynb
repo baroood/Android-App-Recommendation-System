{
  "nbformat": 4,
  "nbformat_minor": 0,
  "metadata": {
    "colab": {
      "name": "recommendations.ipynb",
      "provenance": []
    },
    "kernelspec": {
      "name": "python3",
      "display_name": "Python 3"
    }
  },
  "cells": [
    {
      "cell_type": "code",
      "metadata": {
        "id": "FciXOYGBkQ9V",
        "colab": {
          "base_uri": "https://localhost:8080/"
        },
        "outputId": "01b3c32e-635e-4f1a-d5e5-06cbbdbc861c"
      },
      "source": [
        "import os\n",
        "import pandas as pd\n",
        "from sklearn import preprocessing\n",
        "from sklearn.metrics.pairwise import cosine_similarity\n",
        "from sklearn.feature_extraction.text import TfidfVectorizer\n",
        "\n",
        "#setting up kaggle env variables, do type your username and key\n",
        "os.environ['KAGGLE_USERNAME'] = \"username\" # username from the json file\n",
        "os.environ['KAGGLE_KEY'] = \"key\" # key from the json file\n",
        "\n",
        "!pip install kaggle\n",
        "import kaggle"
      ],
      "execution_count": 209,
      "outputs": [
        {
          "output_type": "stream",
          "text": [
            "Requirement already satisfied: kaggle in /usr/local/lib/python3.6/dist-packages (1.5.10)\n",
            "Requirement already satisfied: tqdm in /usr/local/lib/python3.6/dist-packages (from kaggle) (4.41.1)\n",
            "Requirement already satisfied: urllib3 in /usr/local/lib/python3.6/dist-packages (from kaggle) (1.24.3)\n",
            "Requirement already satisfied: requests in /usr/local/lib/python3.6/dist-packages (from kaggle) (2.23.0)\n",
            "Requirement already satisfied: certifi in /usr/local/lib/python3.6/dist-packages (from kaggle) (2020.12.5)\n",
            "Requirement already satisfied: six>=1.10 in /usr/local/lib/python3.6/dist-packages (from kaggle) (1.15.0)\n",
            "Requirement already satisfied: python-dateutil in /usr/local/lib/python3.6/dist-packages (from kaggle) (2.8.1)\n",
            "Requirement already satisfied: python-slugify in /usr/local/lib/python3.6/dist-packages (from kaggle) (4.0.1)\n",
            "Requirement already satisfied: chardet<4,>=3.0.2 in /usr/local/lib/python3.6/dist-packages (from requests->kaggle) (3.0.4)\n",
            "Requirement already satisfied: idna<3,>=2.5 in /usr/local/lib/python3.6/dist-packages (from requests->kaggle) (2.10)\n",
            "Requirement already satisfied: text-unidecode>=1.3 in /usr/local/lib/python3.6/dist-packages (from python-slugify->kaggle) (1.3)\n"
          ],
          "name": "stdout"
        }
      ]
    },
    {
      "cell_type": "code",
      "metadata": {
        "id": "BGq9UO0MlFR3"
      },
      "source": [
        "#downloading dataset\n",
        "kaggle.api.authenticate()\n",
        "kaggle.api.dataset_download_files('lava18/google-play-store-apps', path='./dataset', unzip=True)"
      ],
      "execution_count": 210,
      "outputs": []
    },
    {
      "cell_type": "code",
      "metadata": {
        "id": "MxrLQSK6Oqh6"
      },
      "source": [
        "store = {}\n",
        "df = pd.read_csv('./dataset/googleplaystore_user_reviews.csv')\n",
        "\n",
        "#preprocessing dataset (removing null values)\n",
        "df = df[df['Translated_Review'].notna()]\n",
        "index_names = df[ df['Translated_Review'] == \"nan\" ].index \n",
        "df.drop(index_names, inplace = True)\n",
        "\n",
        "for index, row in df.iterrows():\n",
        "  if row['App'] in store:\n",
        "    store[row['App']]+=row['Translated_Review']\n",
        "  else:\n",
        "    store[row['App']]=row['Translated_Review']\n",
        "\n",
        "list_reviews = []\n",
        "for key, value in store.items():\n",
        "  list_reviews.append([key,value])\n",
        "\n",
        "#creating a dataset of app reviews (concatenated)\n",
        "data_reviews = pd.DataFrame(list_reviews,columns=['App','Translated_Review'])\n",
        "data_reviews.set_index('App', inplace=True)\n",
        "\n",
        "#printing list of apps which have reviews (not all apps have reviews )\n",
        "# for index,rows in data_reviews.iterrows():\n",
        "#   print(index)\n"
      ],
      "execution_count": 211,
      "outputs": []
    },
    {
      "cell_type": "code",
      "metadata": {
        "colab": {
          "base_uri": "https://localhost:8080/"
        },
        "id": "9HKy6FFpldCY",
        "outputId": "5b9e6cd2-5b55-4ef6-a338-6d3376b57523"
      },
      "source": [
        "data = pd.read_csv('/content/dataset/googleplaystore.csv',index_col = \"App\")\n",
        "data[\"App Name\"]=data.index\n",
        "\n",
        "#removing duplicate entries\n",
        "data.drop_duplicates(subset=['App Name'], keep='first',inplace = True)\n",
        "\n",
        "data.Type = pd.Categorical(data.Type)\n",
        "data.Type=data.Type.astype('category').cat.codes\n",
        "\n",
        "print(data.head())\n",
        "# for i in data.iloc[0]:\n",
        "#   print(i)"
      ],
      "execution_count": 212,
      "outputs": [
        {
          "output_type": "stream",
          "text": [
            "                                                          Category  ...                                           App Name\n",
            "App                                                                 ...                                                   \n",
            "Photo Editor & Candy Camera & Grid & ScrapBook      ART_AND_DESIGN  ...     Photo Editor & Candy Camera & Grid & ScrapBook\n",
            "Coloring book moana                                 ART_AND_DESIGN  ...                                Coloring book moana\n",
            "U Launcher Lite – FREE Live Cool Themes, Hide Apps  ART_AND_DESIGN  ...  U Launcher Lite – FREE Live Cool Themes, Hide ...\n",
            "Sketch - Draw & Paint                               ART_AND_DESIGN  ...                              Sketch - Draw & Paint\n",
            "Pixel Draw - Number Art Coloring Book               ART_AND_DESIGN  ...              Pixel Draw - Number Art Coloring Book\n",
            "\n",
            "[5 rows x 13 columns]\n"
          ],
          "name": "stdout"
        }
      ]
    },
    {
      "cell_type": "code",
      "metadata": {
        "id": "80aMpjqGocqE",
        "colab": {
          "base_uri": "https://localhost:8080/"
        },
        "outputId": "774d4545-d04c-46b3-ab1d-e66a650fc089"
      },
      "source": [
        "#taking inputs\n",
        "app_name = input(\"Write app name:\\t\")\n",
        "num_rec = int(input(\"Write number of recommendations:\\t\"))"
      ],
      "execution_count": 213,
      "outputs": [
        {
          "output_type": "stream",
          "text": [
            "Write app name:\tdropbox\n",
            "Write number of recommendations:\t10\n"
          ],
          "name": "stdout"
        }
      ]
    },
    {
      "cell_type": "code",
      "metadata": {
        "colab": {
          "base_uri": "https://localhost:8080/"
        },
        "id": "RuOH7mKEAH9S",
        "outputId": "0769b10a-3743-4f52-8bcc-ff858e7ea192"
      },
      "source": [
        "matching_apps_index=data[\"App Name\"].str.contains(app_name, case= False)\n",
        "matching_apps = data[matching_apps_index]\n",
        "\n",
        "# for i in range(0,len(matching_apps.axes[0])):\n",
        "#   print(\"Recommending for app: \",matching_apps.iloc[i][12])\n",
        "\n",
        "if len(matching_apps)==0:\n",
        "  print(\"NO SUCH APP\")\n",
        "else:\n",
        "  given_app=matching_apps.iloc[0,:]\n",
        "  print(\"Recommending for app: \",given_app[12])\n",
        "  print(given_app)"
      ],
      "execution_count": 214,
      "outputs": [
        {
          "output_type": "stream",
          "text": [
            "Recommending for app:  Dropbox\n",
            "Category                PRODUCTIVITY\n",
            "Rating                           4.4\n",
            "Reviews                      1861310\n",
            "Size                             61M\n",
            "Installs                500,000,000+\n",
            "Type                               1\n",
            "Price                              0\n",
            "Content Rating              Everyone\n",
            "Genres                  Productivity\n",
            "Last Updated          August 1, 2018\n",
            "Current Ver       Varies with device\n",
            "Android Ver       Varies with device\n",
            "App Name                     Dropbox\n",
            "Name: Dropbox, dtype: object\n"
          ],
          "name": "stdout"
        }
      ]
    },
    {
      "cell_type": "code",
      "metadata": {
        "id": "INiOXEYkDiew"
      },
      "source": [
        "data = data.loc[data['Category'] == given_app[0]]\n",
        "\n",
        "\n",
        "#app name\n",
        "tf = TfidfVectorizer(analyzer='word', stop_words='english')\n",
        "tfidf_matrix = pd.DataFrame((tf.fit_transform(data.index)).toarray(),index=data.index)\n",
        "matrix = cosine_similarity(tfidf_matrix,[tfidf_matrix.loc[given_app[12]]])\n",
        "\n",
        "\n",
        "#app reviews\n",
        "tf = TfidfVectorizer(analyzer='word', stop_words='english')\n",
        "tfidf_matrix = pd.DataFrame((tf.fit_transform(data_reviews['Translated_Review'])).toarray(),index=data_reviews.index)\n",
        "\n",
        "reviews_similarity = {}\n",
        "for index, row in data.iterrows():\n",
        "    reviews_similarity[index]=0\n",
        "\n",
        "if given_app[12] in data_reviews.index:\n",
        "  matrix_reviews = cosine_similarity(tfidf_matrix,[tfidf_matrix.loc[given_app[12]]])\n",
        "  for i in range(0,len(matrix_reviews)):\n",
        "    reviews_similarity[data_reviews.index[i]]=matrix_reviews[i][0]\n",
        "\n",
        "else:\n",
        "  print(\"No reviews found\")"
      ],
      "execution_count": 215,
      "outputs": []
    },
    {
      "cell_type": "code",
      "metadata": {
        "id": "mNF7LmBBU_Tz"
      },
      "source": [
        "list_similarities = []\n",
        "\n",
        "for i in range(0,len(matrix)):\n",
        "  list_similarities.append([matrix[i][0]+reviews_similarity[data.index[i]],data.index[i],matrix[i][0],reviews_similarity[data.index[i]]])\n",
        "list_similarities.sort(reverse = True)\n",
        "\n",
        "final_simi = {}\n",
        "for entry in list_similarities:\n",
        "  if entry[0] !=0 and entry[1] != given_app[12]:\n",
        "    final_simi[entry[1]]=entry[0]\n",
        "    # print(entry[0],entry[1])\n",
        "\n",
        "buckets = []\n",
        "\n",
        "ranges = []\n",
        "ranges.append([1.5,2.0])\n",
        "ranges.append([1.0,1.5])\n",
        "ranges.append([0.6,1.0])\n",
        "ranges.append([0.4,0.6])\n",
        "ranges.append([0.3,0.4])\n",
        "ranges.append([0.25,0.3])\n",
        "ranges.append([0.2,0.25])\n",
        "ranges.append([0.15,0.2])\n",
        "ranges.append([0.1,0.15])\n",
        "ranges.append([0.075,0.1])\n",
        "\n",
        "low = 1.5\n",
        "high = 2.0\n",
        "temp= []\n",
        "for entry in list_similarities:\n",
        "  if entry[0] <= high and entry[0] > low:\n",
        "    temp.append(entry[1])\n",
        "buckets.append(temp)\n",
        "\n",
        "for ran in ranges:\n",
        "  low = ran[0]\n",
        "  high = ran[1]\n",
        "  temp= []\n",
        "  for entry in list_similarities:\n",
        "    if entry[0] <= high and entry[0] > low:\n",
        "      temp.append(entry[1])\n",
        "  buckets.append(temp)\n",
        "\n",
        "final_ans=[]\n",
        "final_simi[given_app[12]]=2.0\n",
        "for entry in buckets:\n",
        "  if len(entry) > 0:\n",
        "    index_names=entry\n",
        "    data_temp=data.loc[index_names]\n",
        "    final_data = data_temp.sort_values(by=['Rating'], ascending=False)\n",
        "    for index,row in final_data.iterrows():\n",
        "      if index!=given_app[12]:\n",
        "        final_ans.append([index,row['Rating'],final_simi[index]])\n",
        "    # print(entry)"
      ],
      "execution_count": 216,
      "outputs": []
    },
    {
      "cell_type": "code",
      "metadata": {
        "id": "d1tk0cYCXqk8",
        "colab": {
          "base_uri": "https://localhost:8080/"
        },
        "outputId": "1b52e33d-bdca-4c03-bd3b-95d23c340b41"
      },
      "source": [
        "#printing recommendations\n",
        "if len(final_ans)==0:\n",
        "  print(\"No Good recommendations\")\n",
        "else:\n",
        "  print(\"App,\\t Rating,\\t Similarity_measure\")\n",
        "  for i in range(0,min(num_rec,len(final_ans))):\n",
        "    print(final_ans[i][0],'\\t',final_ans[i][1],'\\t',round(final_ans[i][2],3))"
      ],
      "execution_count": 217,
      "outputs": [
        {
          "output_type": "stream",
          "text": [
            "App,\t Rating,\t Similarity_measure\n",
            "Amazon Drive \t 4.4 \t 0.251\n",
            "G Cloud Backup \t 4.6 \t 0.179\n",
            "AndroZip™ FREE File Manager \t 4.2 \t 0.151\n",
            "ColorNote Notepad Notes \t 4.6 \t 0.11\n",
            "Adobe Acrobat Reader \t 4.3 \t 0.129\n",
            "File Browser by Astro (File Manager) \t 4.3 \t 0.119\n",
            "HTC File Manager \t 4.2 \t 0.126\n",
            "Google PDF Viewer \t 4.2 \t 0.12\n",
            "Content Transfer \t 4.7 \t 0.097\n",
            "Business Calendar 2 \t 4.6 \t 0.09\n"
          ],
          "name": "stdout"
        }
      ]
    },
    {
      "cell_type": "code",
      "metadata": {
        "id": "lvpnhZBsAne-"
      },
      "source": [
        ""
      ],
      "execution_count": 217,
      "outputs": []
    }
  ]
}